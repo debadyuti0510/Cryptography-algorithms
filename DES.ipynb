{
 "cells": [
  {
   "cell_type": "code",
   "execution_count": 2,
   "metadata": {},
   "outputs": [],
   "source": [
    "import pyDes\n",
    "from pyDes import des\n",
    "import base64"
   ]
  },
  {
   "cell_type": "code",
   "execution_count": 3,
   "metadata": {},
   "outputs": [],
   "source": [
    "key = b\"DESCRYPT\"\n",
    "d = des(key, pyDes.ECB)"
   ]
  },
  {
   "cell_type": "code",
   "execution_count": 4,
   "metadata": {},
   "outputs": [
    {
     "name": "stdout",
     "output_type": "stream",
     "text": [
      "Please enter the message: hello world\n"
     ]
    }
   ],
   "source": [
    "message = input(\"Please enter the message: \")\n",
    "message = bytes(message, 'utf-8')"
   ]
  },
  {
   "cell_type": "code",
   "execution_count": 5,
   "metadata": {},
   "outputs": [
    {
     "name": "stdout",
     "output_type": "stream",
     "text": [
      "Cipher text: 'jnrzjvoAn3FndLPRynq/Zg=='\n"
     ]
    }
   ],
   "source": [
    "cipher = d.encrypt(message, pad=' ')\n",
    "cipher = base64.b64encode(cipher).decode('utf-8')\n",
    "print(\"Cipher text: %r\"%cipher)"
   ]
  },
  {
   "cell_type": "code",
   "execution_count": 6,
   "metadata": {},
   "outputs": [
    {
     "name": "stdout",
     "output_type": "stream",
     "text": [
      "Enter the cipher text: jnrzjvoAn3FndLPRynq/Zg==\n",
      "Plain text: 'hello world'\n"
     ]
    }
   ],
   "source": [
    "ct = input(\"Enter the cipher text: \")\n",
    "ct = base64.b64decode(ct)\n",
    "ct = bytes(ct)\n",
    "plain = d.decrypt(ct, pad=' ').decode('utf-8')\n",
    "print(\"Plain text: %r\"%plain)"
   ]
  },
  {
   "cell_type": "code",
   "execution_count": null,
   "metadata": {},
   "outputs": [],
   "source": []
  }
 ],
 "metadata": {
  "kernelspec": {
   "display_name": "Python 3",
   "language": "python",
   "name": "python3"
  },
  "language_info": {
   "codemirror_mode": {
    "name": "ipython",
    "version": 3
   },
   "file_extension": ".py",
   "mimetype": "text/x-python",
   "name": "python",
   "nbconvert_exporter": "python",
   "pygments_lexer": "ipython3",
   "version": "3.7.4"
  }
 },
 "nbformat": 4,
 "nbformat_minor": 2
}
